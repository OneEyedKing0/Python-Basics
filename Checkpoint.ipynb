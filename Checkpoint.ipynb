{
 "cells": [
  {
   "cell_type": "code",
   "execution_count": 21,
   "id": "6bfacbbc",
   "metadata": {},
   "outputs": [
    {
     "name": "stdout",
     "output_type": "stream",
     "text": [
      "Hannachi Adam\n"
     ]
    }
   ],
   "source": [
    "str1 = \"Adam\"\n",
    "str2 = \"Hannachi\"\n",
    "print(str2,str1)"
   ]
  },
  {
   "cell_type": "code",
   "execution_count": 11,
   "id": "e947e379",
   "metadata": {},
   "outputs": [
    {
     "name": "stdout",
     "output_type": "stream",
     "text": [
      "155\n"
     ]
    }
   ],
   "source": [
    "n = 5 \n",
    "print(int(n+n**2+n**3))"
   ]
  },
  {
   "cell_type": "code",
   "execution_count": 16,
   "id": "c1006ff9",
   "metadata": {},
   "outputs": [
    {
     "name": "stdout",
     "output_type": "stream",
     "text": [
      "Enter a number: 63\n",
      "63 is Odd\n"
     ]
    }
   ],
   "source": [
    "num = int(input(\"Enter a number: \"))\n",
    "if (num % 2) == 0:\n",
    "    print(\"{0} is Even\".format(num))\n",
    "else:\n",
    "    print(\"{0} is Odd\".format(num))\n",
    "    "
   ]
  },
  {
   "cell_type": "code",
   "execution_count": 28,
   "id": "8e399ab4",
   "metadata": {},
   "outputs": [
    {
     "name": "stdout",
     "output_type": "stream",
     "text": [
      "2002,2009,2016,2023,2037,2044,2051,2058,2072,2079,2086,2093,2107,2114,2121,2128,2142,2149,2156,2163,2177,2184,2191,2198,2212,2219,2226,2233,2247,2254,2261,2268,2282,2289,2296,2303,2317,2324,2331,2338,2352,2359,2366,2373,2387,2394,2401,2408,2422,2429,2436,2443,2457,2464,2471,2478,2492,2499,2506,2513,2527,2534,2541,2548,2562,2569,2576,2583,2597,2604,2611,2618,2632,2639,2646,2653,2667,2674,2681,2688,2702,2709,2716,2723,2737,2744,2751,2758,2772,2779,2786,2793,2807,2814,2821,2828,2842,2849,2856,2863,2877,2884,2891,2898,2912,2919,2926,2933,2947,2954,2961,2968,2982,2989,2996,3003,3017,3024,3031,3038,3052,3059,3066,3073,3087,3094,3101,3108,3122,3129,3136,3143,3157,3164,3171,3178,3192,3199\n"
     ]
    }
   ],
   "source": [
    "n=[]\n",
    "for x in range(2000,3200):\n",
    "    if (x%7==0) and (x%5!=0):\n",
    "        n.append(str(x))\n",
    "print(','.join(n))"
   ]
  },
  {
   "cell_type": "code",
   "execution_count": 26,
   "id": "9f30da72",
   "metadata": {},
   "outputs": [
    {
     "name": "stdout",
     "output_type": "stream",
     "text": [
      "Enter a number: 7\n",
      "The factorial of 7 is 1\n",
      "The factorial of 7 is 2\n",
      "The factorial of 7 is 6\n",
      "The factorial of 7 is 24\n",
      "The factorial of 7 is 120\n",
      "The factorial of 7 is 720\n",
      "The factorial of 7 is 5040\n"
     ]
    }
   ],
   "source": [
    "num = int(input(\"Enter a number: \"))\n",
    "factorial = 1\n",
    "if num < 0:\n",
    "    print(\"Sorry, factorial does not exist for negative numbers\")\n",
    "elif num == 0:\n",
    "    print(\"The factorial of 0 is 1\")\n",
    "else:\n",
    "    for i in range(1,num + 1):\n",
    "        factorial = factorial*i\n",
    "        print(\"The factorial of\",num,\"is\",factorial)\n"
   ]
  },
  {
   "cell_type": "code",
   "execution_count": 30,
   "id": "1893d651",
   "metadata": {},
   "outputs": [
    {
     "name": "stdout",
     "output_type": "stream",
     "text": [
      "ace\n",
      "Pto\n"
     ]
    }
   ],
   "source": [
    "def odd_values_string(str):\n",
    "    result = \"\"\n",
    "    for i in range(len(str)):\n",
    "        if i % 2 == 0:\n",
    "            result=result + str[i]\n",
    "    return result\n",
    "print(odd_values_string('abcdef'))\n",
    "print(odd_values_string('Python'))"
   ]
  },
  {
   "cell_type": "code",
   "execution_count": 44,
   "id": "04d4dcbf",
   "metadata": {},
   "outputs": [
    {
     "name": "stdout",
     "output_type": "stream",
     "text": [
      "Enter selling price : 100\n",
      "Discount : 10.0\n"
     ]
    }
   ],
   "source": [
    "def getDiscount(amount):\n",
    "    if amount <= 0:\n",
    "        return 0;\n",
    "    elif amount <= 100:\n",
    "        return amount*.1;\n",
    "    elif amount <= 200:\n",
    "        return amount*.1;\n",
    "    elif amount <= 300:\n",
    "        return amount*.3;\n",
    "    elif amount <= 500:\n",
    "        return amount*.5;\n",
    "    elif amount <= 1000:\n",
    "        return amount*.5;\n",
    "    else:\n",
    "        return amount*.1;\n",
    "\n",
    "if __name__=='__main__':\n",
    "    selling_price = int(input(\"Enter selling price : \"))\n",
    "    discount = getDiscount(selling_price)\n",
    "\n",
    "    print(\"Discount : {}\".format(discount))"
   ]
  },
  {
   "cell_type": "code",
   "execution_count": null,
   "id": "f9f49d76",
   "metadata": {},
   "outputs": [],
   "source": []
  }
 ],
 "metadata": {
  "kernelspec": {
   "display_name": "Python 3",
   "language": "python",
   "name": "python3"
  },
  "language_info": {
   "codemirror_mode": {
    "name": "ipython",
    "version": 3
   },
   "file_extension": ".py",
   "mimetype": "text/x-python",
   "name": "python",
   "nbconvert_exporter": "python",
   "pygments_lexer": "ipython3",
   "version": "3.8.8"
  }
 },
 "nbformat": 4,
 "nbformat_minor": 5
}
